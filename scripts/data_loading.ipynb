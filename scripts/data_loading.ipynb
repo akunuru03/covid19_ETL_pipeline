{
 "cells": [
  {
   "cell_type": "code",
   "execution_count": 5,
   "id": "9a1a2134-a8c9-45bf-8cbe-7c6e9f3b6962",
   "metadata": {},
   "outputs": [
    {
     "name": "stdout",
     "output_type": "stream",
     "text": [
      "✅ Data loaded into database successfully!\n"
     ]
    }
   ],
   "source": [
    "import os\n",
    "import sqlite3\n",
    "import pandas as pd\n",
    "\n",
    "# Create the database folder if it doesn't exist\n",
    "os.makedirs('database', exist_ok=True)\n",
    "\n",
    "# Connect to SQLite database (it will create if it doesn't exist)\n",
    "conn = sqlite3.connect('database/covid19.db')\n",
    "\n",
    "# Load cleaned data\n",
    "df_cleaned = pd.read_csv('data/processed/cleaned_covid_data.csv')\n",
    "\n",
    "# Load dataframe into SQL table named 'covid_data'\n",
    "df_cleaned.to_sql('covid_data', conn, if_exists='replace', index=False)\n",
    "\n",
    "print(\"✅ Data loaded into database successfully!\")\n",
    "\n",
    "# Close the connection\n",
    "conn.close()\n"
   ]
  },
  {
   "cell_type": "code",
   "execution_count": 5,
   "id": "78f1debd-5375-4460-8cf4-a857c4235f9b",
   "metadata": {},
   "outputs": [
    {
     "name": "stdout",
     "output_type": "stream",
     "text": [
      "      location        date  total_cases  new_cases  total_deaths  active_cases\n",
      "0  Afghanistan  2020-01-05          0.0        0.0           0.0           0.0\n",
      "1  Afghanistan  2020-01-06          0.0        0.0           0.0           0.0\n",
      "2  Afghanistan  2020-01-07          0.0        0.0           0.0           0.0\n",
      "3  Afghanistan  2020-01-08          0.0        0.0           0.0           0.0\n",
      "4  Afghanistan  2020-01-09          0.0        0.0           0.0           0.0\n"
     ]
    }
   ],
   "source": [
    "import sqlite3\n",
    "import pandas as pd\n",
    "# Reconnect to the SQLite database\n",
    "conn = sqlite3.connect('database/covid19.db')\n",
    "\n",
    "# Query the database to see the first few rows\n",
    "query = \"SELECT * FROM covid_data LIMIT 5;\"\n",
    "result = pd.read_sql(query, conn)\n",
    "\n",
    "# Show the result\n",
    "print(result)\n",
    "\n",
    "# Close the connection\n",
    "conn.close()\n"
   ]
  },
  {
   "cell_type": "code",
   "execution_count": null,
   "id": "0757120a-57f8-44b5-82ef-afd7699f1f95",
   "metadata": {},
   "outputs": [],
   "source": []
  }
 ],
 "metadata": {
  "kernelspec": {
   "display_name": "Python [conda env:base] *",
   "language": "python",
   "name": "conda-base-py"
  },
  "language_info": {
   "codemirror_mode": {
    "name": "ipython",
    "version": 3
   },
   "file_extension": ".py",
   "mimetype": "text/x-python",
   "name": "python",
   "nbconvert_exporter": "python",
   "pygments_lexer": "ipython3",
   "version": "3.12.7"
  }
 },
 "nbformat": 4,
 "nbformat_minor": 5
}
