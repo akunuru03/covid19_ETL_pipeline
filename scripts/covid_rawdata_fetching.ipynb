{
 "cells": [
  {
   "cell_type": "code",
   "execution_count": 1,
   "id": "4d383311-c3c8-436c-baf9-fb592702420e",
   "metadata": {},
   "outputs": [
    {
     "name": "stdout",
     "output_type": "stream",
     "text": [
      "✅ Data downloaded successfully and saved to data/raw/owid-covid-data.csv\n"
     ]
    }
   ],
   "source": [
    "import os\n",
    "import requests\n",
    "\n",
    "# Function to download COVID-19 data\n",
    "def download_covid_data(url, save_path):\n",
    "    response = requests.get(url)\n",
    "    \n",
    "    if response.status_code == 200:\n",
    "        os.makedirs(os.path.dirname(save_path), exist_ok=True)\n",
    "        with open(save_path, 'wb') as file:\n",
    "            file.write(response.content)\n",
    "        print(f\"✅ Data downloaded successfully and saved to {save_path}\")\n",
    "    else:\n",
    "        print(f\"❌ Failed to download data. Status code: {response.status_code}\")\n",
    "\n",
    "# Download URL and save path\n",
    "data_url = \"https://covid.ourworldindata.org/data/owid-covid-data.csv\"\n",
    "save_file_path = \"data/raw/owid-covid-data.csv\"\n",
    "\n",
    "# Run the function\n",
    "download_covid_data(data_url, save_file_path)\n"
   ]
  },
  {
   "cell_type": "code",
   "execution_count": null,
   "id": "667149a8-6ad0-40f8-9938-6072209e4ae6",
   "metadata": {},
   "outputs": [],
   "source": []
  }
 ],
 "metadata": {
  "kernelspec": {
   "display_name": "Python [conda env:base] *",
   "language": "python",
   "name": "conda-base-py"
  },
  "language_info": {
   "codemirror_mode": {
    "name": "ipython",
    "version": 3
   },
   "file_extension": ".py",
   "mimetype": "text/x-python",
   "name": "python",
   "nbconvert_exporter": "python",
   "pygments_lexer": "ipython3",
   "version": "3.12.7"
  }
 },
 "nbformat": 4,
 "nbformat_minor": 5
}
